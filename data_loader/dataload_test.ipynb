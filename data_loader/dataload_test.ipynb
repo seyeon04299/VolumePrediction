{
 "cells": [
  {
   "cell_type": "code",
   "execution_count": 1,
   "metadata": {},
   "outputs": [],
   "source": [
    "import pandas as pd"
   ]
  },
  {
   "cell_type": "code",
   "execution_count": 1,
   "metadata": {},
   "outputs": [],
   "source": [
    "import torch"
   ]
  },
  {
   "cell_type": "code",
   "execution_count": 2,
   "metadata": {},
   "outputs": [],
   "source": [
    "a = torch.Tensor([0,0,0,1,1,0,0,0,1,1,0,0])"
   ]
  },
  {
   "cell_type": "code",
   "execution_count": 1,
   "metadata": {},
   "outputs": [
    {
     "ename": "NameError",
     "evalue": "name 'torch' is not defined",
     "output_type": "error",
     "traceback": [
      "\u001b[0;31m---------------------------------------------------------------------------\u001b[0m",
      "\u001b[0;31mNameError\u001b[0m                                 Traceback (most recent call last)",
      "\u001b[0;32m/tmp/ipykernel_566867/266133814.py\u001b[0m in \u001b[0;36m<module>\u001b[0;34m\u001b[0m\n\u001b[0;32m----> 1\u001b[0;31m \u001b[0mtorch\u001b[0m\u001b[0;34m.\u001b[0m\u001b[0mfft\u001b[0m\u001b[0;34m.\u001b[0m\u001b[0mfft\u001b[0m\u001b[0;34m(\u001b[0m\u001b[0ma\u001b[0m\u001b[0;34m)\u001b[0m\u001b[0;34m\u001b[0m\u001b[0;34m\u001b[0m\u001b[0m\n\u001b[0m\u001b[1;32m      2\u001b[0m sub_map = pd.read_csv(\n\u001b[1;32m      3\u001b[0m     \u001b[0;34m'/home/seyeon04299/DATA/volume-prediction/GAN/subjectmap/subjectmap_volumeLOB.csv'\u001b[0m\u001b[0;34m\u001b[0m\u001b[0;34m\u001b[0m\u001b[0m\n\u001b[1;32m      4\u001b[0m )\n",
      "\u001b[0;31mNameError\u001b[0m: name 'torch' is not defined"
     ]
    }
   ],
   "source": [
    "torch.fft.fft(a)"
   ]
  },
  {
   "cell_type": "code",
   "execution_count": 5,
   "metadata": {},
   "outputs": [
    {
     "data": {
      "text/html": [
       "<div>\n",
       "<style scoped>\n",
       "    .dataframe tbody tr th:only-of-type {\n",
       "        vertical-align: middle;\n",
       "    }\n",
       "\n",
       "    .dataframe tbody tr th {\n",
       "        vertical-align: top;\n",
       "    }\n",
       "\n",
       "    .dataframe thead th {\n",
       "        text-align: right;\n",
       "    }\n",
       "</style>\n",
       "<table border=\"1\" class=\"dataframe\">\n",
       "  <thead>\n",
       "    <tr style=\"text-align: right;\">\n",
       "      <th></th>\n",
       "      <th>date</th>\n",
       "      <th>stock</th>\n",
       "      <th>vol_dir</th>\n",
       "      <th>lp_vol_dir</th>\n",
       "      <th>nd_vol_dir</th>\n",
       "      <th>lob_dir</th>\n",
       "      <th>price_dir</th>\n",
       "    </tr>\n",
       "  </thead>\n",
       "  <tbody>\n",
       "  </tbody>\n",
       "</table>\n",
       "</div>"
      ],
      "text/plain": [
       "Empty DataFrame\n",
       "Columns: [date, stock, vol_dir, lp_vol_dir, nd_vol_dir, lob_dir, price_dir]\n",
       "Index: []"
      ]
     },
     "execution_count": 5,
     "metadata": {},
     "output_type": "execute_result"
    }
   ],
   "source": [
    "import pandas as pd\n",
    "sub_map = pd.read_csv(\n",
    "    '/home/seyeon04299/DATA/volume-prediction/GAN/subjectmap/subjectmap_volumeLOB.csv'\n",
    ")\n",
    "a = pd.DataFrame(columns=sub_map.columns)\n",
    "a"
   ]
  },
  {
   "cell_type": "code",
   "execution_count": 10,
   "metadata": {},
   "outputs": [
    {
     "data": {
      "text/html": [
       "<div>\n",
       "<style scoped>\n",
       "    .dataframe tbody tr th:only-of-type {\n",
       "        vertical-align: middle;\n",
       "    }\n",
       "\n",
       "    .dataframe tbody tr th {\n",
       "        vertical-align: top;\n",
       "    }\n",
       "\n",
       "    .dataframe thead th {\n",
       "        text-align: right;\n",
       "    }\n",
       "</style>\n",
       "<table border=\"1\" class=\"dataframe\">\n",
       "  <thead>\n",
       "    <tr style=\"text-align: right;\">\n",
       "      <th></th>\n",
       "      <th>date</th>\n",
       "      <th>stock</th>\n",
       "      <th>vol_dir</th>\n",
       "      <th>lp_vol_dir</th>\n",
       "      <th>nd_vol_dir</th>\n",
       "      <th>lob_dir</th>\n",
       "      <th>price_dir</th>\n",
       "    </tr>\n",
       "  </thead>\n",
       "  <tbody>\n",
       "    <tr>\n",
       "      <th>0</th>\n",
       "      <td>S100121-v50</td>\n",
       "      <td>A</td>\n",
       "      <td>../data/NASDAQ/new_npz_files/S100121-v50/vol_A...</td>\n",
       "      <td>../data/NASDAQ/new_npz_files/S100121-v50/lp_vo...</td>\n",
       "      <td>../data/NASDAQ/new_npz_files/S100121-v50/nd_vo...</td>\n",
       "      <td>../data/NASDAQ/new_npz_files/S100121-v50/lobA.npz</td>\n",
       "      <td>../data/NASDAQ/new_npz_files/S100121-v50/price...</td>\n",
       "    </tr>\n",
       "    <tr>\n",
       "      <th>1</th>\n",
       "      <td>S100121-v50</td>\n",
       "      <td>AAL</td>\n",
       "      <td>../data/NASDAQ/new_npz_files/S100121-v50/vol_A...</td>\n",
       "      <td>../data/NASDAQ/new_npz_files/S100121-v50/lp_vo...</td>\n",
       "      <td>../data/NASDAQ/new_npz_files/S100121-v50/nd_vo...</td>\n",
       "      <td>../data/NASDAQ/new_npz_files/S100121-v50/lobAA...</td>\n",
       "      <td>../data/NASDAQ/new_npz_files/S100121-v50/price...</td>\n",
       "    </tr>\n",
       "    <tr>\n",
       "      <th>2</th>\n",
       "      <td>S100121-v50</td>\n",
       "      <td>AAP</td>\n",
       "      <td>../data/NASDAQ/new_npz_files/S100121-v50/vol_A...</td>\n",
       "      <td>../data/NASDAQ/new_npz_files/S100121-v50/lp_vo...</td>\n",
       "      <td>../data/NASDAQ/new_npz_files/S100121-v50/nd_vo...</td>\n",
       "      <td>../data/NASDAQ/new_npz_files/S100121-v50/lobAA...</td>\n",
       "      <td>../data/NASDAQ/new_npz_files/S100121-v50/price...</td>\n",
       "    </tr>\n",
       "    <tr>\n",
       "      <th>3</th>\n",
       "      <td>S100121-v50</td>\n",
       "      <td>AAPL</td>\n",
       "      <td>../data/NASDAQ/new_npz_files/S100121-v50/vol_A...</td>\n",
       "      <td>../data/NASDAQ/new_npz_files/S100121-v50/lp_vo...</td>\n",
       "      <td>../data/NASDAQ/new_npz_files/S100121-v50/nd_vo...</td>\n",
       "      <td>../data/NASDAQ/new_npz_files/S100121-v50/lobAA...</td>\n",
       "      <td>../data/NASDAQ/new_npz_files/S100121-v50/price...</td>\n",
       "    </tr>\n",
       "    <tr>\n",
       "      <th>4</th>\n",
       "      <td>S100121-v50</td>\n",
       "      <td>ABBV</td>\n",
       "      <td>../data/NASDAQ/new_npz_files/S100121-v50/vol_A...</td>\n",
       "      <td>../data/NASDAQ/new_npz_files/S100121-v50/lp_vo...</td>\n",
       "      <td>../data/NASDAQ/new_npz_files/S100121-v50/nd_vo...</td>\n",
       "      <td>../data/NASDAQ/new_npz_files/S100121-v50/lobAB...</td>\n",
       "      <td>../data/NASDAQ/new_npz_files/S100121-v50/price...</td>\n",
       "    </tr>\n",
       "    <tr>\n",
       "      <th>...</th>\n",
       "      <td>...</td>\n",
       "      <td>...</td>\n",
       "      <td>...</td>\n",
       "      <td>...</td>\n",
       "      <td>...</td>\n",
       "      <td>...</td>\n",
       "      <td>...</td>\n",
       "    </tr>\n",
       "    <tr>\n",
       "      <th>29815</th>\n",
       "      <td>S123121-v50</td>\n",
       "      <td>YUM</td>\n",
       "      <td>../data/NASDAQ/new_npz_files/S123121-v50/vol_Y...</td>\n",
       "      <td>../data/NASDAQ/new_npz_files/S123121-v50/lp_vo...</td>\n",
       "      <td>../data/NASDAQ/new_npz_files/S123121-v50/nd_vo...</td>\n",
       "      <td>../data/NASDAQ/new_npz_files/S123121-v50/lobYU...</td>\n",
       "      <td>../data/NASDAQ/new_npz_files/S123121-v50/price...</td>\n",
       "    </tr>\n",
       "    <tr>\n",
       "      <th>29816</th>\n",
       "      <td>S123121-v50</td>\n",
       "      <td>ZBH</td>\n",
       "      <td>../data/NASDAQ/new_npz_files/S123121-v50/vol_Z...</td>\n",
       "      <td>../data/NASDAQ/new_npz_files/S123121-v50/lp_vo...</td>\n",
       "      <td>../data/NASDAQ/new_npz_files/S123121-v50/nd_vo...</td>\n",
       "      <td>../data/NASDAQ/new_npz_files/S123121-v50/lobZB...</td>\n",
       "      <td>../data/NASDAQ/new_npz_files/S123121-v50/price...</td>\n",
       "    </tr>\n",
       "    <tr>\n",
       "      <th>29817</th>\n",
       "      <td>S123121-v50</td>\n",
       "      <td>ZBRA</td>\n",
       "      <td>../data/NASDAQ/new_npz_files/S123121-v50/vol_Z...</td>\n",
       "      <td>../data/NASDAQ/new_npz_files/S123121-v50/lp_vo...</td>\n",
       "      <td>../data/NASDAQ/new_npz_files/S123121-v50/nd_vo...</td>\n",
       "      <td>../data/NASDAQ/new_npz_files/S123121-v50/lobZB...</td>\n",
       "      <td>../data/NASDAQ/new_npz_files/S123121-v50/price...</td>\n",
       "    </tr>\n",
       "    <tr>\n",
       "      <th>29818</th>\n",
       "      <td>S123121-v50</td>\n",
       "      <td>ZION</td>\n",
       "      <td>../data/NASDAQ/new_npz_files/S123121-v50/vol_Z...</td>\n",
       "      <td>../data/NASDAQ/new_npz_files/S123121-v50/lp_vo...</td>\n",
       "      <td>../data/NASDAQ/new_npz_files/S123121-v50/nd_vo...</td>\n",
       "      <td>../data/NASDAQ/new_npz_files/S123121-v50/lobZI...</td>\n",
       "      <td>../data/NASDAQ/new_npz_files/S123121-v50/price...</td>\n",
       "    </tr>\n",
       "    <tr>\n",
       "      <th>29819</th>\n",
       "      <td>S123121-v50</td>\n",
       "      <td>ZTS</td>\n",
       "      <td>../data/NASDAQ/new_npz_files/S123121-v50/vol_Z...</td>\n",
       "      <td>../data/NASDAQ/new_npz_files/S123121-v50/lp_vo...</td>\n",
       "      <td>../data/NASDAQ/new_npz_files/S123121-v50/nd_vo...</td>\n",
       "      <td>../data/NASDAQ/new_npz_files/S123121-v50/lobZT...</td>\n",
       "      <td>../data/NASDAQ/new_npz_files/S123121-v50/price...</td>\n",
       "    </tr>\n",
       "  </tbody>\n",
       "</table>\n",
       "<p>89460 rows × 7 columns</p>\n",
       "</div>"
      ],
      "text/plain": [
       "              date stock                                            vol_dir  \\\n",
       "0      S100121-v50     A  ../data/NASDAQ/new_npz_files/S100121-v50/vol_A...   \n",
       "1      S100121-v50   AAL  ../data/NASDAQ/new_npz_files/S100121-v50/vol_A...   \n",
       "2      S100121-v50   AAP  ../data/NASDAQ/new_npz_files/S100121-v50/vol_A...   \n",
       "3      S100121-v50  AAPL  ../data/NASDAQ/new_npz_files/S100121-v50/vol_A...   \n",
       "4      S100121-v50  ABBV  ../data/NASDAQ/new_npz_files/S100121-v50/vol_A...   \n",
       "...            ...   ...                                                ...   \n",
       "29815  S123121-v50   YUM  ../data/NASDAQ/new_npz_files/S123121-v50/vol_Y...   \n",
       "29816  S123121-v50   ZBH  ../data/NASDAQ/new_npz_files/S123121-v50/vol_Z...   \n",
       "29817  S123121-v50  ZBRA  ../data/NASDAQ/new_npz_files/S123121-v50/vol_Z...   \n",
       "29818  S123121-v50  ZION  ../data/NASDAQ/new_npz_files/S123121-v50/vol_Z...   \n",
       "29819  S123121-v50   ZTS  ../data/NASDAQ/new_npz_files/S123121-v50/vol_Z...   \n",
       "\n",
       "                                              lp_vol_dir  \\\n",
       "0      ../data/NASDAQ/new_npz_files/S100121-v50/lp_vo...   \n",
       "1      ../data/NASDAQ/new_npz_files/S100121-v50/lp_vo...   \n",
       "2      ../data/NASDAQ/new_npz_files/S100121-v50/lp_vo...   \n",
       "3      ../data/NASDAQ/new_npz_files/S100121-v50/lp_vo...   \n",
       "4      ../data/NASDAQ/new_npz_files/S100121-v50/lp_vo...   \n",
       "...                                                  ...   \n",
       "29815  ../data/NASDAQ/new_npz_files/S123121-v50/lp_vo...   \n",
       "29816  ../data/NASDAQ/new_npz_files/S123121-v50/lp_vo...   \n",
       "29817  ../data/NASDAQ/new_npz_files/S123121-v50/lp_vo...   \n",
       "29818  ../data/NASDAQ/new_npz_files/S123121-v50/lp_vo...   \n",
       "29819  ../data/NASDAQ/new_npz_files/S123121-v50/lp_vo...   \n",
       "\n",
       "                                              nd_vol_dir  \\\n",
       "0      ../data/NASDAQ/new_npz_files/S100121-v50/nd_vo...   \n",
       "1      ../data/NASDAQ/new_npz_files/S100121-v50/nd_vo...   \n",
       "2      ../data/NASDAQ/new_npz_files/S100121-v50/nd_vo...   \n",
       "3      ../data/NASDAQ/new_npz_files/S100121-v50/nd_vo...   \n",
       "4      ../data/NASDAQ/new_npz_files/S100121-v50/nd_vo...   \n",
       "...                                                  ...   \n",
       "29815  ../data/NASDAQ/new_npz_files/S123121-v50/nd_vo...   \n",
       "29816  ../data/NASDAQ/new_npz_files/S123121-v50/nd_vo...   \n",
       "29817  ../data/NASDAQ/new_npz_files/S123121-v50/nd_vo...   \n",
       "29818  ../data/NASDAQ/new_npz_files/S123121-v50/nd_vo...   \n",
       "29819  ../data/NASDAQ/new_npz_files/S123121-v50/nd_vo...   \n",
       "\n",
       "                                                 lob_dir  \\\n",
       "0      ../data/NASDAQ/new_npz_files/S100121-v50/lobA.npz   \n",
       "1      ../data/NASDAQ/new_npz_files/S100121-v50/lobAA...   \n",
       "2      ../data/NASDAQ/new_npz_files/S100121-v50/lobAA...   \n",
       "3      ../data/NASDAQ/new_npz_files/S100121-v50/lobAA...   \n",
       "4      ../data/NASDAQ/new_npz_files/S100121-v50/lobAB...   \n",
       "...                                                  ...   \n",
       "29815  ../data/NASDAQ/new_npz_files/S123121-v50/lobYU...   \n",
       "29816  ../data/NASDAQ/new_npz_files/S123121-v50/lobZB...   \n",
       "29817  ../data/NASDAQ/new_npz_files/S123121-v50/lobZB...   \n",
       "29818  ../data/NASDAQ/new_npz_files/S123121-v50/lobZI...   \n",
       "29819  ../data/NASDAQ/new_npz_files/S123121-v50/lobZT...   \n",
       "\n",
       "                                               price_dir  \n",
       "0      ../data/NASDAQ/new_npz_files/S100121-v50/price...  \n",
       "1      ../data/NASDAQ/new_npz_files/S100121-v50/price...  \n",
       "2      ../data/NASDAQ/new_npz_files/S100121-v50/price...  \n",
       "3      ../data/NASDAQ/new_npz_files/S100121-v50/price...  \n",
       "4      ../data/NASDAQ/new_npz_files/S100121-v50/price...  \n",
       "...                                                  ...  \n",
       "29815  ../data/NASDAQ/new_npz_files/S123121-v50/price...  \n",
       "29816  ../data/NASDAQ/new_npz_files/S123121-v50/price...  \n",
       "29817  ../data/NASDAQ/new_npz_files/S123121-v50/price...  \n",
       "29818  ../data/NASDAQ/new_npz_files/S123121-v50/price...  \n",
       "29819  ../data/NASDAQ/new_npz_files/S123121-v50/price...  \n",
       "\n",
       "[89460 rows x 7 columns]"
      ]
     },
     "execution_count": 10,
     "metadata": {},
     "output_type": "execute_result"
    }
   ],
   "source": [
    "a = pd.concat([a,sub_map])\n",
    "a"
   ]
  },
  {
   "cell_type": "code",
   "execution_count": null,
   "metadata": {},
   "outputs": [],
   "source": []
  },
  {
   "cell_type": "code",
   "execution_count": 2,
   "metadata": {},
   "outputs": [],
   "source": [
    "sub_map = pd.read_csv(\n",
    "    '/home/seyeon04299/DATA/volume-prediction/GAN/subjectmap/subjectmap_volumeLOB.csv'\n",
    ")"
   ]
  },
  {
   "cell_type": "code",
   "execution_count": 3,
   "metadata": {},
   "outputs": [
    {
     "data": {
      "text/html": [
       "<div>\n",
       "<style scoped>\n",
       "    .dataframe tbody tr th:only-of-type {\n",
       "        vertical-align: middle;\n",
       "    }\n",
       "\n",
       "    .dataframe tbody tr th {\n",
       "        vertical-align: top;\n",
       "    }\n",
       "\n",
       "    .dataframe thead th {\n",
       "        text-align: right;\n",
       "    }\n",
       "</style>\n",
       "<table border=\"1\" class=\"dataframe\">\n",
       "  <thead>\n",
       "    <tr style=\"text-align: right;\">\n",
       "      <th></th>\n",
       "      <th>date</th>\n",
       "      <th>stock</th>\n",
       "      <th>vol_dir</th>\n",
       "      <th>lp_vol_dir</th>\n",
       "      <th>nd_vol_dir</th>\n",
       "      <th>lob_dir</th>\n",
       "      <th>price_dir</th>\n",
       "    </tr>\n",
       "  </thead>\n",
       "  <tbody>\n",
       "    <tr>\n",
       "      <th>0</th>\n",
       "      <td>S100121-v50</td>\n",
       "      <td>A</td>\n",
       "      <td>../data/NASDAQ/npz_files/S100121-v50/vol_A.npz</td>\n",
       "      <td>../data/NASDAQ/npz_files/S100121-v50/lp_vol_A.npz</td>\n",
       "      <td>../data/NASDAQ/npz_files/S100121-v50/nd_vol_A.npz</td>\n",
       "      <td>../data/NASDAQ/npz_files/S100121-v50/lobA.npz</td>\n",
       "      <td>../data/NASDAQ/npz_files/S100121-v50/priceA.npz</td>\n",
       "    </tr>\n",
       "    <tr>\n",
       "      <th>1</th>\n",
       "      <td>S100121-v50</td>\n",
       "      <td>AAL</td>\n",
       "      <td>../data/NASDAQ/npz_files/S100121-v50/vol_AAL.npz</td>\n",
       "      <td>../data/NASDAQ/npz_files/S100121-v50/lp_vol_AA...</td>\n",
       "      <td>../data/NASDAQ/npz_files/S100121-v50/nd_vol_AA...</td>\n",
       "      <td>../data/NASDAQ/npz_files/S100121-v50/lobAAL.npz</td>\n",
       "      <td>../data/NASDAQ/npz_files/S100121-v50/priceAAL.npz</td>\n",
       "    </tr>\n",
       "    <tr>\n",
       "      <th>2</th>\n",
       "      <td>S100121-v50</td>\n",
       "      <td>AAP</td>\n",
       "      <td>../data/NASDAQ/npz_files/S100121-v50/vol_AAP.npz</td>\n",
       "      <td>../data/NASDAQ/npz_files/S100121-v50/lp_vol_AA...</td>\n",
       "      <td>../data/NASDAQ/npz_files/S100121-v50/nd_vol_AA...</td>\n",
       "      <td>../data/NASDAQ/npz_files/S100121-v50/lobAAP.npz</td>\n",
       "      <td>../data/NASDAQ/npz_files/S100121-v50/priceAAP.npz</td>\n",
       "    </tr>\n",
       "    <tr>\n",
       "      <th>3</th>\n",
       "      <td>S100121-v50</td>\n",
       "      <td>AAPL</td>\n",
       "      <td>../data/NASDAQ/npz_files/S100121-v50/vol_AAPL.npz</td>\n",
       "      <td>../data/NASDAQ/npz_files/S100121-v50/lp_vol_AA...</td>\n",
       "      <td>../data/NASDAQ/npz_files/S100121-v50/nd_vol_AA...</td>\n",
       "      <td>../data/NASDAQ/npz_files/S100121-v50/lobAAPL.npz</td>\n",
       "      <td>../data/NASDAQ/npz_files/S100121-v50/priceAAPL...</td>\n",
       "    </tr>\n",
       "    <tr>\n",
       "      <th>4</th>\n",
       "      <td>S100121-v50</td>\n",
       "      <td>ABBV</td>\n",
       "      <td>../data/NASDAQ/npz_files/S100121-v50/vol_ABBV.npz</td>\n",
       "      <td>../data/NASDAQ/npz_files/S100121-v50/lp_vol_AB...</td>\n",
       "      <td>../data/NASDAQ/npz_files/S100121-v50/nd_vol_AB...</td>\n",
       "      <td>../data/NASDAQ/npz_files/S100121-v50/lobABBV.npz</td>\n",
       "      <td>../data/NASDAQ/npz_files/S100121-v50/priceABBV...</td>\n",
       "    </tr>\n",
       "    <tr>\n",
       "      <th>...</th>\n",
       "      <td>...</td>\n",
       "      <td>...</td>\n",
       "      <td>...</td>\n",
       "      <td>...</td>\n",
       "      <td>...</td>\n",
       "      <td>...</td>\n",
       "      <td>...</td>\n",
       "    </tr>\n",
       "    <tr>\n",
       "      <th>29815</th>\n",
       "      <td>S123121-v50</td>\n",
       "      <td>YUM</td>\n",
       "      <td>../data/NASDAQ/npz_files/S123121-v50/vol_YUM.npz</td>\n",
       "      <td>../data/NASDAQ/npz_files/S123121-v50/lp_vol_YU...</td>\n",
       "      <td>../data/NASDAQ/npz_files/S123121-v50/nd_vol_YU...</td>\n",
       "      <td>../data/NASDAQ/npz_files/S123121-v50/lobYUM.npz</td>\n",
       "      <td>../data/NASDAQ/npz_files/S123121-v50/priceYUM.npz</td>\n",
       "    </tr>\n",
       "    <tr>\n",
       "      <th>29816</th>\n",
       "      <td>S123121-v50</td>\n",
       "      <td>ZBH</td>\n",
       "      <td>../data/NASDAQ/npz_files/S123121-v50/vol_ZBH.npz</td>\n",
       "      <td>../data/NASDAQ/npz_files/S123121-v50/lp_vol_ZB...</td>\n",
       "      <td>../data/NASDAQ/npz_files/S123121-v50/nd_vol_ZB...</td>\n",
       "      <td>../data/NASDAQ/npz_files/S123121-v50/lobZBH.npz</td>\n",
       "      <td>../data/NASDAQ/npz_files/S123121-v50/priceZBH.npz</td>\n",
       "    </tr>\n",
       "    <tr>\n",
       "      <th>29817</th>\n",
       "      <td>S123121-v50</td>\n",
       "      <td>ZBRA</td>\n",
       "      <td>../data/NASDAQ/npz_files/S123121-v50/vol_ZBRA.npz</td>\n",
       "      <td>../data/NASDAQ/npz_files/S123121-v50/lp_vol_ZB...</td>\n",
       "      <td>../data/NASDAQ/npz_files/S123121-v50/nd_vol_ZB...</td>\n",
       "      <td>../data/NASDAQ/npz_files/S123121-v50/lobZBRA.npz</td>\n",
       "      <td>../data/NASDAQ/npz_files/S123121-v50/priceZBRA...</td>\n",
       "    </tr>\n",
       "    <tr>\n",
       "      <th>29818</th>\n",
       "      <td>S123121-v50</td>\n",
       "      <td>ZION</td>\n",
       "      <td>../data/NASDAQ/npz_files/S123121-v50/vol_ZION.npz</td>\n",
       "      <td>../data/NASDAQ/npz_files/S123121-v50/lp_vol_ZI...</td>\n",
       "      <td>../data/NASDAQ/npz_files/S123121-v50/nd_vol_ZI...</td>\n",
       "      <td>../data/NASDAQ/npz_files/S123121-v50/lobZION.npz</td>\n",
       "      <td>../data/NASDAQ/npz_files/S123121-v50/priceZION...</td>\n",
       "    </tr>\n",
       "    <tr>\n",
       "      <th>29819</th>\n",
       "      <td>S123121-v50</td>\n",
       "      <td>ZTS</td>\n",
       "      <td>../data/NASDAQ/npz_files/S123121-v50/vol_ZTS.npz</td>\n",
       "      <td>../data/NASDAQ/npz_files/S123121-v50/lp_vol_ZT...</td>\n",
       "      <td>../data/NASDAQ/npz_files/S123121-v50/nd_vol_ZT...</td>\n",
       "      <td>../data/NASDAQ/npz_files/S123121-v50/lobZTS.npz</td>\n",
       "      <td>../data/NASDAQ/npz_files/S123121-v50/priceZTS.npz</td>\n",
       "    </tr>\n",
       "  </tbody>\n",
       "</table>\n",
       "<p>29820 rows × 7 columns</p>\n",
       "</div>"
      ],
      "text/plain": [
       "              date stock                                            vol_dir  \\\n",
       "0      S100121-v50     A     ../data/NASDAQ/npz_files/S100121-v50/vol_A.npz   \n",
       "1      S100121-v50   AAL   ../data/NASDAQ/npz_files/S100121-v50/vol_AAL.npz   \n",
       "2      S100121-v50   AAP   ../data/NASDAQ/npz_files/S100121-v50/vol_AAP.npz   \n",
       "3      S100121-v50  AAPL  ../data/NASDAQ/npz_files/S100121-v50/vol_AAPL.npz   \n",
       "4      S100121-v50  ABBV  ../data/NASDAQ/npz_files/S100121-v50/vol_ABBV.npz   \n",
       "...            ...   ...                                                ...   \n",
       "29815  S123121-v50   YUM   ../data/NASDAQ/npz_files/S123121-v50/vol_YUM.npz   \n",
       "29816  S123121-v50   ZBH   ../data/NASDAQ/npz_files/S123121-v50/vol_ZBH.npz   \n",
       "29817  S123121-v50  ZBRA  ../data/NASDAQ/npz_files/S123121-v50/vol_ZBRA.npz   \n",
       "29818  S123121-v50  ZION  ../data/NASDAQ/npz_files/S123121-v50/vol_ZION.npz   \n",
       "29819  S123121-v50   ZTS   ../data/NASDAQ/npz_files/S123121-v50/vol_ZTS.npz   \n",
       "\n",
       "                                              lp_vol_dir  \\\n",
       "0      ../data/NASDAQ/npz_files/S100121-v50/lp_vol_A.npz   \n",
       "1      ../data/NASDAQ/npz_files/S100121-v50/lp_vol_AA...   \n",
       "2      ../data/NASDAQ/npz_files/S100121-v50/lp_vol_AA...   \n",
       "3      ../data/NASDAQ/npz_files/S100121-v50/lp_vol_AA...   \n",
       "4      ../data/NASDAQ/npz_files/S100121-v50/lp_vol_AB...   \n",
       "...                                                  ...   \n",
       "29815  ../data/NASDAQ/npz_files/S123121-v50/lp_vol_YU...   \n",
       "29816  ../data/NASDAQ/npz_files/S123121-v50/lp_vol_ZB...   \n",
       "29817  ../data/NASDAQ/npz_files/S123121-v50/lp_vol_ZB...   \n",
       "29818  ../data/NASDAQ/npz_files/S123121-v50/lp_vol_ZI...   \n",
       "29819  ../data/NASDAQ/npz_files/S123121-v50/lp_vol_ZT...   \n",
       "\n",
       "                                              nd_vol_dir  \\\n",
       "0      ../data/NASDAQ/npz_files/S100121-v50/nd_vol_A.npz   \n",
       "1      ../data/NASDAQ/npz_files/S100121-v50/nd_vol_AA...   \n",
       "2      ../data/NASDAQ/npz_files/S100121-v50/nd_vol_AA...   \n",
       "3      ../data/NASDAQ/npz_files/S100121-v50/nd_vol_AA...   \n",
       "4      ../data/NASDAQ/npz_files/S100121-v50/nd_vol_AB...   \n",
       "...                                                  ...   \n",
       "29815  ../data/NASDAQ/npz_files/S123121-v50/nd_vol_YU...   \n",
       "29816  ../data/NASDAQ/npz_files/S123121-v50/nd_vol_ZB...   \n",
       "29817  ../data/NASDAQ/npz_files/S123121-v50/nd_vol_ZB...   \n",
       "29818  ../data/NASDAQ/npz_files/S123121-v50/nd_vol_ZI...   \n",
       "29819  ../data/NASDAQ/npz_files/S123121-v50/nd_vol_ZT...   \n",
       "\n",
       "                                                lob_dir  \\\n",
       "0         ../data/NASDAQ/npz_files/S100121-v50/lobA.npz   \n",
       "1       ../data/NASDAQ/npz_files/S100121-v50/lobAAL.npz   \n",
       "2       ../data/NASDAQ/npz_files/S100121-v50/lobAAP.npz   \n",
       "3      ../data/NASDAQ/npz_files/S100121-v50/lobAAPL.npz   \n",
       "4      ../data/NASDAQ/npz_files/S100121-v50/lobABBV.npz   \n",
       "...                                                 ...   \n",
       "29815   ../data/NASDAQ/npz_files/S123121-v50/lobYUM.npz   \n",
       "29816   ../data/NASDAQ/npz_files/S123121-v50/lobZBH.npz   \n",
       "29817  ../data/NASDAQ/npz_files/S123121-v50/lobZBRA.npz   \n",
       "29818  ../data/NASDAQ/npz_files/S123121-v50/lobZION.npz   \n",
       "29819   ../data/NASDAQ/npz_files/S123121-v50/lobZTS.npz   \n",
       "\n",
       "                                               price_dir  \n",
       "0        ../data/NASDAQ/npz_files/S100121-v50/priceA.npz  \n",
       "1      ../data/NASDAQ/npz_files/S100121-v50/priceAAL.npz  \n",
       "2      ../data/NASDAQ/npz_files/S100121-v50/priceAAP.npz  \n",
       "3      ../data/NASDAQ/npz_files/S100121-v50/priceAAPL...  \n",
       "4      ../data/NASDAQ/npz_files/S100121-v50/priceABBV...  \n",
       "...                                                  ...  \n",
       "29815  ../data/NASDAQ/npz_files/S123121-v50/priceYUM.npz  \n",
       "29816  ../data/NASDAQ/npz_files/S123121-v50/priceZBH.npz  \n",
       "29817  ../data/NASDAQ/npz_files/S123121-v50/priceZBRA...  \n",
       "29818  ../data/NASDAQ/npz_files/S123121-v50/priceZION...  \n",
       "29819  ../data/NASDAQ/npz_files/S123121-v50/priceZTS.npz  \n",
       "\n",
       "[29820 rows x 7 columns]"
      ]
     },
     "execution_count": 3,
     "metadata": {},
     "output_type": "execute_result"
    }
   ],
   "source": [
    "sub_map"
   ]
  },
  {
   "cell_type": "code",
   "execution_count": 19,
   "metadata": {},
   "outputs": [],
   "source": [
    "from src.constants import REGMKT_END_TIME_NS,REGMKT_START_TIME_NS, R_N,A_N\n",
    "import numpy as np\n",
    "from scipy import stats\n",
    "\n"
   ]
  },
  {
   "cell_type": "code",
   "execution_count": 20,
   "metadata": {},
   "outputs": [
    {
     "data": {
      "text/plain": [
       "'../data/NASDAQ/npz_files/S100121-v50/vol_AAPL.npz'"
      ]
     },
     "execution_count": 20,
     "metadata": {},
     "output_type": "execute_result"
    }
   ],
   "source": [
    "dirs = sub_map['vol_dir']\n",
    "dir = dirs[3]\n",
    "dir"
   ]
  },
  {
   "cell_type": "code",
   "execution_count": 21,
   "metadata": {},
   "outputs": [
    {
     "data": {
      "text/plain": [
       "'../data/NASDAQ/npz_files/S100121-v50/vol_AAPL.npz'"
      ]
     },
     "execution_count": 21,
     "metadata": {},
     "output_type": "execute_result"
    }
   ],
   "source": [
    "sub_map['vol_dir'][3]"
   ]
  },
  {
   "cell_type": "code",
   "execution_count": null,
   "metadata": {},
   "outputs": [],
   "source": [
    "securities[self.securities['Symbol']==row['stock']]"
   ]
  },
  {
   "cell_type": "code",
   "execution_count": null,
   "metadata": {},
   "outputs": [],
   "source": []
  },
  {
   "cell_type": "code",
   "execution_count": null,
   "metadata": {},
   "outputs": [],
   "source": []
  },
  {
   "cell_type": "code",
   "execution_count": null,
   "metadata": {},
   "outputs": [],
   "source": []
  },
  {
   "cell_type": "code",
   "execution_count": null,
   "metadata": {},
   "outputs": [],
   "source": []
  },
  {
   "cell_type": "code",
   "execution_count": null,
   "metadata": {},
   "outputs": [],
   "source": []
  },
  {
   "cell_type": "code",
   "execution_count": 12,
   "metadata": {},
   "outputs": [
    {
     "ename": "TypeError",
     "evalue": "expected str, bytes or os.PathLike object, not builtin_function_or_method",
     "output_type": "error",
     "traceback": [
      "\u001b[0;31m---------------------------------------------------------------------------\u001b[0m",
      "\u001b[0;31mTypeError\u001b[0m                                 Traceback (most recent call last)",
      "\u001b[0;32m/tmp/ipykernel_566867/701158221.py\u001b[0m in \u001b[0;36m<module>\u001b[0;34m\u001b[0m\n\u001b[1;32m      1\u001b[0m \u001b[0;32mimport\u001b[0m \u001b[0mnumpy\u001b[0m \u001b[0;32mas\u001b[0m \u001b[0mnp\u001b[0m\u001b[0;34m\u001b[0m\u001b[0;34m\u001b[0m\u001b[0m\n\u001b[0;32m----> 2\u001b[0;31m \u001b[0mvol\u001b[0m \u001b[0;34m=\u001b[0m \u001b[0mnp\u001b[0m\u001b[0;34m.\u001b[0m\u001b[0mload\u001b[0m\u001b[0;34m(\u001b[0m\u001b[0mdir\u001b[0m\u001b[0;34m)\u001b[0m\u001b[0;34m[\u001b[0m\u001b[0;34m'sequence'\u001b[0m\u001b[0;34m]\u001b[0m\u001b[0;34m.\u001b[0m\u001b[0mastype\u001b[0m\u001b[0;34m(\u001b[0m\u001b[0mfloat\u001b[0m\u001b[0;34m)\u001b[0m\u001b[0;34m\u001b[0m\u001b[0;34m\u001b[0m\u001b[0m\n\u001b[0m",
      "\u001b[0;32m~/anaconda3/envs/offlinerl/lib/python3.8/site-packages/numpy/lib/npyio.py\u001b[0m in \u001b[0;36mload\u001b[0;34m(file, mmap_mode, allow_pickle, fix_imports, encoding)\u001b[0m\n\u001b[1;32m    415\u001b[0m             \u001b[0mown_fid\u001b[0m \u001b[0;34m=\u001b[0m \u001b[0;32mFalse\u001b[0m\u001b[0;34m\u001b[0m\u001b[0;34m\u001b[0m\u001b[0m\n\u001b[1;32m    416\u001b[0m         \u001b[0;32melse\u001b[0m\u001b[0;34m:\u001b[0m\u001b[0;34m\u001b[0m\u001b[0;34m\u001b[0m\u001b[0m\n\u001b[0;32m--> 417\u001b[0;31m             \u001b[0mfid\u001b[0m \u001b[0;34m=\u001b[0m \u001b[0mstack\u001b[0m\u001b[0;34m.\u001b[0m\u001b[0menter_context\u001b[0m\u001b[0;34m(\u001b[0m\u001b[0mopen\u001b[0m\u001b[0;34m(\u001b[0m\u001b[0mos_fspath\u001b[0m\u001b[0;34m(\u001b[0m\u001b[0mfile\u001b[0m\u001b[0;34m)\u001b[0m\u001b[0;34m,\u001b[0m \u001b[0;34m\"rb\"\u001b[0m\u001b[0;34m)\u001b[0m\u001b[0;34m)\u001b[0m\u001b[0;34m\u001b[0m\u001b[0;34m\u001b[0m\u001b[0m\n\u001b[0m\u001b[1;32m    418\u001b[0m             \u001b[0mown_fid\u001b[0m \u001b[0;34m=\u001b[0m \u001b[0;32mTrue\u001b[0m\u001b[0;34m\u001b[0m\u001b[0;34m\u001b[0m\u001b[0m\n\u001b[1;32m    419\u001b[0m \u001b[0;34m\u001b[0m\u001b[0m\n",
      "\u001b[0;31mTypeError\u001b[0m: expected str, bytes or os.PathLike object, not builtin_function_or_method"
     ]
    }
   ],
   "source": [
    "import numpy as np\n",
    "\n",
    "dirs = sub_map['vol_dir']\n",
    "dir = dirs[3]\n",
    "dir\n",
    "vol = np.load(dir)['sequence'].astype(float)"
   ]
  },
  {
   "cell_type": "code",
   "execution_count": null,
   "metadata": {},
   "outputs": [],
   "source": []
  },
  {
   "cell_type": "code",
   "execution_count": null,
   "metadata": {},
   "outputs": [],
   "source": []
  },
  {
   "cell_type": "code",
   "execution_count": null,
   "metadata": {},
   "outputs": [],
   "source": []
  },
  {
   "cell_type": "code",
   "execution_count": null,
   "metadata": {},
   "outputs": [],
   "source": []
  },
  {
   "cell_type": "code",
   "execution_count": null,
   "metadata": {},
   "outputs": [],
   "source": []
  },
  {
   "cell_type": "code",
   "execution_count": null,
   "metadata": {},
   "outputs": [],
   "source": []
  },
  {
   "cell_type": "code",
   "execution_count": null,
   "metadata": {},
   "outputs": [],
   "source": []
  },
  {
   "cell_type": "code",
   "execution_count": null,
   "metadata": {},
   "outputs": [],
   "source": []
  },
  {
   "cell_type": "code",
   "execution_count": 11,
   "metadata": {},
   "outputs": [
    {
     "ename": "NameError",
     "evalue": "name 'np' is not defined",
     "output_type": "error",
     "traceback": [
      "\u001b[0;31m---------------------------------------------------------------------------\u001b[0m",
      "\u001b[0;31mNameError\u001b[0m                                 Traceback (most recent call last)",
      "\u001b[0;32m/tmp/ipykernel_566867/193409169.py\u001b[0m in \u001b[0;36m<module>\u001b[0;34m\u001b[0m\n\u001b[0;32m----> 1\u001b[0;31m \u001b[0mvol\u001b[0m \u001b[0;34m=\u001b[0m \u001b[0mnp\u001b[0m\u001b[0;34m.\u001b[0m\u001b[0mload\u001b[0m\u001b[0;34m(\u001b[0m\u001b[0mdir\u001b[0m\u001b[0;34m)\u001b[0m\u001b[0;34m[\u001b[0m\u001b[0;34m'sequence'\u001b[0m\u001b[0;34m]\u001b[0m\u001b[0;34m.\u001b[0m\u001b[0mastype\u001b[0m\u001b[0;34m(\u001b[0m\u001b[0mfloat\u001b[0m\u001b[0;34m)\u001b[0m\u001b[0;34m\u001b[0m\u001b[0;34m\u001b[0m\u001b[0m\n\u001b[0m\u001b[1;32m      2\u001b[0m \u001b[0mcov\u001b[0m \u001b[0;34m=\u001b[0m \u001b[0mnp\u001b[0m\u001b[0;34m.\u001b[0m\u001b[0mlinspace\u001b[0m\u001b[0;34m(\u001b[0m\u001b[0mREGMKT_START_TIME_NS\u001b[0m\u001b[0;34m+\u001b[0m\u001b[0;36m60\u001b[0m\u001b[0;34m*\u001b[0m\u001b[0;36m10\u001b[0m\u001b[0;34m**\u001b[0m\u001b[0;36m9\u001b[0m\u001b[0;34m,\u001b[0m\u001b[0mREGMKT_END_TIME_NS\u001b[0m\u001b[0;34m,\u001b[0m\u001b[0mREG_N\u001b[0m\u001b[0;34m)\u001b[0m\u001b[0;34m\u001b[0m\u001b[0;34m\u001b[0m\u001b[0m\n",
      "\u001b[0;31mNameError\u001b[0m: name 'np' is not defined"
     ]
    }
   ],
   "source": [
    "vol = np.load(dir)['sequence'].astype(float)\n",
    "cov = np.linspace(REGMKT_START_TIME_NS+60*10**9,REGMKT_END_TIME_NS,REG_N)"
   ]
  },
  {
   "cell_type": "code",
   "execution_count": 18,
   "metadata": {},
   "outputs": [
    {
     "ename": "NameError",
     "evalue": "name 'np' is not defined",
     "output_type": "error",
     "traceback": [
      "\u001b[0;31m---------------------------------------------------------------------------\u001b[0m",
      "\u001b[0;31mNameError\u001b[0m                                 Traceback (most recent call last)",
      "\u001b[0;32m/tmp/ipykernel_1608703/389311074.py\u001b[0m in \u001b[0;36m<module>\u001b[0;34m\u001b[0m\n\u001b[0;32m----> 1\u001b[0;31m \u001b[0mfinal\u001b[0m \u001b[0;34m=\u001b[0m \u001b[0mnp\u001b[0m\u001b[0;34m.\u001b[0m\u001b[0mzeros\u001b[0m\u001b[0;34m(\u001b[0m\u001b[0;34m(\u001b[0m\u001b[0mvol\u001b[0m\u001b[0;34m.\u001b[0m\u001b[0mshape\u001b[0m\u001b[0;34m[\u001b[0m\u001b[0;36m0\u001b[0m\u001b[0;34m]\u001b[0m\u001b[0;34m,\u001b[0m\u001b[0;36m2\u001b[0m\u001b[0;34m)\u001b[0m\u001b[0;34m)\u001b[0m\u001b[0;34m\u001b[0m\u001b[0;34m\u001b[0m\u001b[0m\n\u001b[0m",
      "\u001b[0;31mNameError\u001b[0m: name 'np' is not defined"
     ]
    }
   ],
   "source": [
    "final = np.zeros((vol.shape[0],2))"
   ]
  },
  {
   "cell_type": "code",
   "execution_count": 9,
   "metadata": {},
   "outputs": [
    {
     "ename": "NameError",
     "evalue": "name 'vol' is not defined",
     "output_type": "error",
     "traceback": [
      "\u001b[0;31m---------------------------------------------------------------------------\u001b[0m",
      "\u001b[0;31mNameError\u001b[0m                                 Traceback (most recent call last)",
      "\u001b[0;32m/tmp/ipykernel_1608703/802149873.py\u001b[0m in \u001b[0;36m<module>\u001b[0;34m\u001b[0m\n\u001b[0;32m----> 1\u001b[0;31m \u001b[0mfinal\u001b[0m\u001b[0;34m[\u001b[0m\u001b[0;34m:\u001b[0m\u001b[0;34m,\u001b[0m\u001b[0;36m0\u001b[0m\u001b[0;34m]\u001b[0m\u001b[0;34m=\u001b[0m\u001b[0mvol\u001b[0m\u001b[0;34m\u001b[0m\u001b[0;34m\u001b[0m\u001b[0m\n\u001b[0m\u001b[1;32m      2\u001b[0m \u001b[0mfinal\u001b[0m\u001b[0;34m[\u001b[0m\u001b[0;34m:\u001b[0m\u001b[0;34m,\u001b[0m\u001b[0;36m1\u001b[0m\u001b[0;34m]\u001b[0m\u001b[0;34m=\u001b[0m\u001b[0mcov\u001b[0m\u001b[0;34m\u001b[0m\u001b[0;34m\u001b[0m\u001b[0m\n",
      "\u001b[0;31mNameError\u001b[0m: name 'vol' is not defined"
     ]
    }
   ],
   "source": [
    "final[:,0]=vol\n",
    "final[:,1]=cov"
   ]
  },
  {
   "cell_type": "code",
   "execution_count": null,
   "metadata": {},
   "outputs": [
    {
     "data": {
      "text/plain": [
       "array([[0.00000000e+00, 3.42600000e+13],\n",
       "       [0.00000000e+00, 3.42609975e+13],\n",
       "       [8.65400000e+03, 3.42619950e+13],\n",
       "       ...,\n",
       "       [2.20600000e+03, 5.75980050e+13],\n",
       "       [1.74100000e+04, 5.75990025e+13],\n",
       "       [2.43791000e+05, 5.76000000e+13]])"
      ]
     },
     "execution_count": 91,
     "metadata": {},
     "output_type": "execute_result"
    }
   ],
   "source": [
    "final"
   ]
  },
  {
   "cell_type": "code",
   "execution_count": 10,
   "metadata": {},
   "outputs": [
    {
     "ename": "NameError",
     "evalue": "name 'final' is not defined",
     "output_type": "error",
     "traceback": [
      "\u001b[0;31m---------------------------------------------------------------------------\u001b[0m",
      "\u001b[0;31mNameError\u001b[0m                                 Traceback (most recent call last)",
      "\u001b[0;32m/tmp/ipykernel_1608703/4204065376.py\u001b[0m in \u001b[0;36m<module>\u001b[0;34m\u001b[0m\n\u001b[0;32m----> 1\u001b[0;31m \u001b[0mfinal\u001b[0m\u001b[0;34m.\u001b[0m\u001b[0mshape\u001b[0m\u001b[0;34m\u001b[0m\u001b[0;34m\u001b[0m\u001b[0m\n\u001b[0m",
      "\u001b[0;31mNameError\u001b[0m: name 'final' is not defined"
     ]
    }
   ],
   "source": [
    "final.shape"
   ]
  },
  {
   "cell_type": "code",
   "execution_count": 11,
   "metadata": {},
   "outputs": [
    {
     "ename": "NameError",
     "evalue": "name 'np' is not defined",
     "output_type": "error",
     "traceback": [
      "\u001b[0;31m---------------------------------------------------------------------------\u001b[0m",
      "\u001b[0;31mNameError\u001b[0m                                 Traceback (most recent call last)",
      "\u001b[0;32m/tmp/ipykernel_1608703/3207596578.py\u001b[0m in \u001b[0;36m<module>\u001b[0;34m\u001b[0m\n\u001b[0;32m----> 1\u001b[0;31m \u001b[0mnp\u001b[0m\u001b[0;34m.\u001b[0m\u001b[0mexpand_dims\u001b[0m\u001b[0;34m(\u001b[0m\u001b[0mfinal\u001b[0m\u001b[0;34m,\u001b[0m \u001b[0maxis\u001b[0m\u001b[0;34m=\u001b[0m\u001b[0;34m-\u001b[0m\u001b[0;36m1\u001b[0m\u001b[0;34m)\u001b[0m\u001b[0;34m.\u001b[0m\u001b[0mshape\u001b[0m\u001b[0;34m\u001b[0m\u001b[0;34m\u001b[0m\u001b[0m\n\u001b[0m",
      "\u001b[0;31mNameError\u001b[0m: name 'np' is not defined"
     ]
    }
   ],
   "source": [
    "np.expand_dims(final, axis=-1).shape"
   ]
  },
  {
   "cell_type": "code",
   "execution_count": 44,
   "metadata": {},
   "outputs": [
    {
     "data": {
      "text/plain": [
       "307200"
      ]
     },
     "execution_count": 44,
     "metadata": {},
     "output_type": "execute_result"
    }
   ],
   "source": [
    "600*512"
   ]
  },
  {
   "cell_type": "code",
   "execution_count": 23,
   "metadata": {},
   "outputs": [],
   "source": [
    "securities = pd.read_csv('../data/NASDAQ/final_stocks_nasdaq.csv')"
   ]
  },
  {
   "cell_type": "code",
   "execution_count": 27,
   "metadata": {},
   "outputs": [
    {
     "data": {
      "text/plain": [
       "date                                                S100121-v50\n",
       "stock                                                       ADI\n",
       "vol_dir        ../data/NASDAQ/npz_files/S100121-v50/vol_ADI.npz\n",
       "lp_vol_dir    ../data/NASDAQ/npz_files/S100121-v50/lp_vol_AD...\n",
       "nd_vol_dir    ../data/NASDAQ/npz_files/S100121-v50/nd_vol_AD...\n",
       "lob_dir         ../data/NASDAQ/npz_files/S100121-v50/lobADI.npz\n",
       "price_dir     ../data/NASDAQ/npz_files/S100121-v50/priceADI.npz\n",
       "Name: 10, dtype: object"
      ]
     },
     "execution_count": 27,
     "metadata": {},
     "output_type": "execute_result"
    }
   ],
   "source": [
    "row = sub_map.iloc[10]\n",
    "row"
   ]
  },
  {
   "cell_type": "code",
   "execution_count": 31,
   "metadata": {},
   "outputs": [
    {
     "data": {
      "text/plain": [
       "33"
      ]
     },
     "execution_count": 31,
     "metadata": {},
     "output_type": "execute_result"
    }
   ],
   "source": [
    "securities[securities['Symbol']==row['stock']].index[0]"
   ]
  },
  {
   "cell_type": "code",
   "execution_count": 42,
   "metadata": {},
   "outputs": [
    {
     "data": {
      "text/plain": [
       "Int64Index([], dtype='int64')"
      ]
     },
     "execution_count": 42,
     "metadata": {},
     "output_type": "execute_result"
    }
   ],
   "source": [
    "securities[securities['Symbol']=='ORCL'].index"
   ]
  },
  {
   "cell_type": "code",
   "execution_count": 37,
   "metadata": {},
   "outputs": [],
   "source": [
    "use_stocks = ['AAPL','AMZN','MSFT','GOOG','FB','NVDA','TSLA','INTC','AVGO','CSCO','ORCL']"
   ]
  },
  {
   "cell_type": "code",
   "execution_count": 38,
   "metadata": {},
   "outputs": [],
   "source": [
    "aa = sub_map[sub_map['stock'].isin(use_stocks)]"
   ]
  },
  {
   "cell_type": "code",
   "execution_count": 41,
   "metadata": {},
   "outputs": [
    {
     "data": {
      "text/plain": [
       "11"
      ]
     },
     "execution_count": 41,
     "metadata": {},
     "output_type": "execute_result"
    }
   ],
   "source": [
    "len(aa['stock'].unique())"
   ]
  },
  {
   "cell_type": "code",
   "execution_count": 43,
   "metadata": {},
   "outputs": [
    {
     "data": {
      "text/html": [
       "<div>\n",
       "<style scoped>\n",
       "    .dataframe tbody tr th:only-of-type {\n",
       "        vertical-align: middle;\n",
       "    }\n",
       "\n",
       "    .dataframe tbody tr th {\n",
       "        vertical-align: top;\n",
       "    }\n",
       "\n",
       "    .dataframe thead th {\n",
       "        text-align: right;\n",
       "    }\n",
       "</style>\n",
       "<table border=\"1\" class=\"dataframe\">\n",
       "  <thead>\n",
       "    <tr style=\"text-align: right;\">\n",
       "      <th></th>\n",
       "      <th>Unnamed: 0</th>\n",
       "      <th>Symbol</th>\n",
       "    </tr>\n",
       "  </thead>\n",
       "  <tbody>\n",
       "    <tr>\n",
       "      <th>0</th>\n",
       "      <td>0</td>\n",
       "      <td>CHRW</td>\n",
       "    </tr>\n",
       "    <tr>\n",
       "      <th>1</th>\n",
       "      <td>1</td>\n",
       "      <td>EQIX</td>\n",
       "    </tr>\n",
       "    <tr>\n",
       "      <th>2</th>\n",
       "      <td>2</td>\n",
       "      <td>BKNG</td>\n",
       "    </tr>\n",
       "    <tr>\n",
       "      <th>3</th>\n",
       "      <td>3</td>\n",
       "      <td>MU</td>\n",
       "    </tr>\n",
       "    <tr>\n",
       "      <th>4</th>\n",
       "      <td>4</td>\n",
       "      <td>KHC</td>\n",
       "    </tr>\n",
       "    <tr>\n",
       "      <th>...</th>\n",
       "      <td>...</td>\n",
       "      <td>...</td>\n",
       "    </tr>\n",
       "    <tr>\n",
       "      <th>140</th>\n",
       "      <td>141</td>\n",
       "      <td>LNT</td>\n",
       "    </tr>\n",
       "    <tr>\n",
       "      <th>141</th>\n",
       "      <td>142</td>\n",
       "      <td>INCY</td>\n",
       "    </tr>\n",
       "    <tr>\n",
       "      <th>142</th>\n",
       "      <td>143</td>\n",
       "      <td>COST</td>\n",
       "    </tr>\n",
       "    <tr>\n",
       "      <th>143</th>\n",
       "      <td>144</td>\n",
       "      <td>CTAS</td>\n",
       "    </tr>\n",
       "    <tr>\n",
       "      <th>144</th>\n",
       "      <td>145</td>\n",
       "      <td>TECH</td>\n",
       "    </tr>\n",
       "  </tbody>\n",
       "</table>\n",
       "<p>145 rows × 2 columns</p>\n",
       "</div>"
      ],
      "text/plain": [
       "     Unnamed: 0 Symbol\n",
       "0             0   CHRW\n",
       "1             1   EQIX\n",
       "2             2   BKNG\n",
       "3             3     MU\n",
       "4             4    KHC\n",
       "..          ...    ...\n",
       "140         141    LNT\n",
       "141         142   INCY\n",
       "142         143   COST\n",
       "143         144   CTAS\n",
       "144         145   TECH\n",
       "\n",
       "[145 rows x 2 columns]"
      ]
     },
     "execution_count": 43,
     "metadata": {},
     "output_type": "execute_result"
    }
   ],
   "source": [
    "securities"
   ]
  },
  {
   "cell_type": "code",
   "execution_count": 26,
   "metadata": {},
   "outputs": [],
   "source": [
    "def normalize_historic(x,mean,std):\n",
    "    '''\n",
    "    Normalize with respect to HISTORIC mean and std\n",
    "    '''\n",
    "    # means = np.ones((x.shape[0],))*mean\n",
    "    # stds = np.ones((x.shape[0],))*std\n",
    "    x_normed = np.true_divide(np.subtract(x,mean),std)\n",
    "    return x_normed"
   ]
  },
  {
   "cell_type": "code",
   "execution_count": 28,
   "metadata": {},
   "outputs": [],
   "source": [
    "import pandas as pd\n",
    "sub_map = pd.read_csv(\n",
    "    '/home/seyeon04299/DATA/volume-prediction/GAN/subjectmap/subjectmap_volumeLOB.csv'\n",
    ")\n",
    "avgs = pd.read_csv('/home/seyeon04299/DATA/volume-prediction/GAN/data/NASDAQ/volume_avg.csv')\n",
    "\n",
    "stock = 'AAPL'\n",
    "sec = 1\n",
    "if sec == 1:\n",
    "    mean = avgs[avgs['security']==stock].reset_index()['mean_vol'][0]\n",
    "    std = avgs[avgs['security']==stock].reset_index()['std_vol'][0]\n",
    "\n",
    "else:\n",
    "    mean = avgs[avgs['security']==stock].reset_index()['mean_vol'+str(sec)][0]\n",
    "    std = avgs[avgs['security']==stock].reset_index()['std_vol'+str(sec)][0]\n",
    "\n",
    "import numpy as np\n",
    "\n",
    "dirs = sub_map['vol_dir']\n",
    "dir = dirs[3]\n",
    "dir\n",
    "vol = np.load(dir)['sequence'].astype(float)"
   ]
  },
  {
   "cell_type": "code",
   "execution_count": 31,
   "metadata": {},
   "outputs": [
    {
     "data": {
      "text/plain": [
       "array([ -0.23644868,  -0.23644868,   4.87213099, ...,   1.06578459,\n",
       "        10.04092271, 143.67685677])"
      ]
     },
     "execution_count": 31,
     "metadata": {},
     "output_type": "execute_result"
    }
   ],
   "source": [
    "v_data = normalize_historic(vol,mean,std)\n",
    "v_data"
   ]
  },
  {
   "cell_type": "code",
   "execution_count": 15,
   "metadata": {},
   "outputs": [],
   "source": [
    "def thresholding_algo(y, lag, threshold, influence):\n",
    "    signals = np.zeros(len(y))\n",
    "    filteredY = np.array(y)\n",
    "    avgFilter = [0]*len(y)\n",
    "    stdFilter = [0]*len(y)\n",
    "    avgFilter[lag - 1] = np.mean(y[0:lag])\n",
    "    stdFilter[lag - 1] = np.std(y[0:lag])\n",
    "    for i in range(lag, len(y)):\n",
    "        if abs(y[i] - avgFilter[i-1]) > threshold * stdFilter [i-1]:\n",
    "            if y[i] > avgFilter[i-1]:\n",
    "                signals[i] = 1\n",
    "            else:\n",
    "                signals[i] = -1\n",
    "\n",
    "            filteredY[i] = influence * y[i] + (1 - influence) * filteredY[i-1]\n",
    "            avgFilter[i] = np.mean(filteredY[(i-lag+1):i+1])\n",
    "            stdFilter[i] = np.std(filteredY[(i-lag+1):i+1])\n",
    "        else:\n",
    "            signals[i] = 0\n",
    "            filteredY[i] = y[i]\n",
    "            avgFilter[i] = np.mean(filteredY[(i-lag+1):i+1])\n",
    "            stdFilter[i] = np.std(filteredY[(i-lag+1):i+1])\n",
    "\n",
    "    return dict(signals = np.asarray(signals),\n",
    "                avgFilter = np.asarray(avgFilter),\n",
    "                stdFilter = np.asarray(stdFilter))"
   ]
  },
  {
   "cell_type": "code",
   "execution_count": 35,
   "metadata": {},
   "outputs": [
    {
     "name": "stdout",
     "output_type": "stream",
     "text": [
      "23400\n"
     ]
    },
    {
     "data": {
      "image/png": "[encoded data removed]",
      "text/plain": [
       "<Figure size 432x288 with 2 Axes>"
      ]
     },
     "metadata": {
      "needs_background": "light"
     },
     "output_type": "display_data"
    }
   ],
   "source": [
    "import pylab\n",
    "y = vol\n",
    "print(len(y))\n",
    "\n",
    "# Settings: lag = 30, threshold = 5, influence = 0\n",
    "lag = 1000\n",
    "threshold = 100\n",
    "influence = 0.5\n",
    "\n",
    "# Run algo with settings from above\n",
    "result = thresholding_algo(y, lag=lag, threshold=threshold, influence=influence)\n",
    "\n",
    "import matplotlib.pyplot as plt\n",
    "fig, ax = plt.subplots(nrows=2,ncols=1,figsize=(20, 10))\n",
    "pylab.plot(np.arange(1, len(y)+1), y)\n",
    "\n",
    "pylab.plot(np.arange(1, len(y)+1),\n",
    "           result[\"avgFilter\"], color=\"cyan\", lw=2)\n",
    "\n",
    "# pylab.plot(np.arange(1, len(y)+1),\n",
    "#            result[\"avgFilter\"] + threshold * result[\"stdFilter\"], color=\"green\", lw=2)\n",
    "\n",
    "# pylab.plot(np.arange(1, len(y)+1),\n",
    "#            result[\"avgFilter\"] - threshold * result[\"stdFilter\"], color=\"green\", lw=2)\n",
    "\n",
    "pylab.subplot(212)\n",
    "pylab.step(np.arange(1, len(y)+1), result[\"signals\"], color=\"red\", lw=2)\n",
    "pylab.ylim(-1.5, 1.5)\n",
    "pylab.show()\n",
    "# Plot result\n",
    "pylab.subplot(211)\n",
    "pylab.plot(np.arange(1, len(y)+1), y)\n",
    "\n",
    "pylab.plot(np.arange(1, len(y)+1),\n",
    "           result[\"avgFilter\"], color=\"cyan\", lw=2)\n",
    "\n",
    "# pylab.plot(np.arange(1, len(y)+1),\n",
    "#            result[\"avgFilter\"] + threshold * result[\"stdFilter\"], color=\"green\", lw=2)\n",
    "\n",
    "# pylab.plot(np.arange(1, len(y)+1),\n",
    "#            result[\"avgFilter\"] - threshold * result[\"stdFilter\"], color=\"green\", lw=2)\n",
    "\n",
    "pylab.subplot(212)\n",
    "pylab.step(np.arange(1, len(y)+1), result[\"signals\"], color=\"red\", lw=2)\n",
    "pylab.ylim(-1.5, 1.5)\n",
    "pylab.show()"
   ]
  },
  {
   "cell_type": "code",
   "execution_count": null,
   "metadata": {},
   "outputs": [],
   "source": []
  },
  {
   "cell_type": "code",
   "execution_count": null,
   "metadata": {},
   "outputs": [],
   "source": []
  }
 ],
 "metadata": {
  "interpreter": {
   "hash": "aba1a0de6dc8e172132e1cd6e330a6714c3065c02638a6d3896f87d2cc619eb0"
  },
  "kernelspec": {
   "display_name": "Python 3.8.12 ('offlinerl')",
   "language": "python",
   "name": "python3"
  },
  "language_info": {
   "codemirror_mode": {
    "name": "ipython",
    "version": 3
   },
   "file_extension": ".py",
   "mimetype": "text/x-python",
   "name": "python",
   "nbconvert_exporter": "python",
   "pygments_lexer": "ipython3",
   "version": "3.8.12"
  },
  "orig_nbformat": 4
 },
 "nbformat": 4,
 "nbformat_minor": 2
}
